{
 "cells": [
  {
   "cell_type": "markdown",
   "metadata": {},
   "source": [
    "Laboratorijas darbs 1.\n",
    "Teilora rinda."
   ]
  },
  {
   "cell_type": "markdown",
   "metadata": {},
   "source": [
    "Funkcija : y = sin(x*x)"
   ]
  },
  {
   "cell_type": "code",
   "execution_count": 1,
   "metadata": {},
   "outputs": [
    {
     "name": "stdout",
     "output_type": "stream",
     "text": [
      "Sin aprekinasana:\n",
      "Ievadi argumentu (x): 27\n",
      "Sin((27.00)^2) =   0.15\n",
      "a0 = 531441.00 S0 = 531441.00\n",
      " a1 = -25015772549499852.00 S1 = -25015772548968412.00\n",
      " a2 = 353259652293468339763675136.00 S2 = 353259652268452594805899264.00\n",
      " a3 = -2375499044159130610079866327622746112.00 S3 = -2375499043805871033849750723883958272.00\n",
      " a4 = 9318209638235025304807958454740484890887716864.00 S4 = 9318209635859526674317470706558555879611826176.00\n",
      " a5 = -23924887535995496575201724834235394340200484982185000960.00 S5 = -23924887526677285907206806975985575300194727904044646400.00\n",
      " a6 = 43314710879174758753120456580412881437176177224543235888778313728.00 S6 = 43314710855249871721895687984408450060302668620398204933118099456.00\n",
      " a7 = -58254065316256455715989575912514795701744656894028121269907880353590149120.00 S7 = -58254065272941742033871791595957871620580932911030112485554033751698178048.00\n",
      " a8 = 60487752446339009869683160721358931465661685940150867235891232317872679960449122304.00 S8 = 60487752388084947889344076039054899278434115951982981732723091666742679491619848192.00\n",
      " a9 = -49951835924552627617021436647051979586057340540974126740834035151760259567607441324045762560.00 S9 = -49951835864064873798014686523460623482942992559807559805609094809953560655692761374482497536.00\n",
      " a10 = 33590175872729435980709201624900239947075285661411898134796994257008098806997412346382917545207267328.00 S10 = 33590175822777598525584598927264399614769771308991317651876686955618331322630605416518532252441772032.00\n",
      "Sin((27.00)^2) caur summu = 33590175822777598525584598927264399614769771308991317651876686955618331322630605416518532252441772032.00\n"
     ]
    }
   ],
   "source": [
    "from math import sin\n",
    "def mans_sinuss(x):\n",
    "    k = 0\n",
    "    a = (-1)**0*x**2/(1)\n",
    "    S = a\n",
    "    print(\"a0 = %6.2f S0 = %6.2f\"%(a,S))\n",
    "    \n",
    "    while k < 10:\n",
    "        k = k + 1\n",
    "        R = (-1)*x*x*x*x/((2*k)*(2*k+1))\n",
    "        a = a * R\n",
    "        S = S + a\n",
    "        print(\" a%d = %6.2f S%d = %6.2f\"%(k,a,k,S))\n",
    "        \n",
    "    return S\n",
    "print(\"Sin aprekinasana:\")\n",
    "x = float(input(\"Ievadi argumentu (x): \"))\n",
    "y = sin(x*x)\n",
    "print(\"Sin((%.2f)^2) = %6.2f\"%(x,y))\n",
    "\n",
    "yy = mans_sinuss(x*x)\n",
    "print(\"Sin((%.2f)^2) caur summu = %6.2f\"%(x,yy))\n",
    "\n"
   ]
  },
  {
   "cell_type": "markdown",
   "metadata": {},
   "source": [
    "Grafiskais apzimejums"
   ]
  },
  {
   "cell_type": "code",
   "execution_count": 2,
   "metadata": {},
   "outputs": [
    {
     "name": "stdout",
     "output_type": "stream",
     "text": [
      "                  500 \n",
      "               __________\n",
      "               \\ \n",
      "                \\                     k   4*k+2 \n",
      "                 \\                (-1) * x       \n",
      " Sin((27.00)^2)  = >       ____________________________ \n",
      "                 /                 (2*K+1)! \n",
      "                / \n",
      "               / \n",
      "               __________ \n",
      "                  k=0\n"
     ]
    }
   ],
   "source": [
    "print(\"                  500 \")\n",
    "print(\"               __________\")\n",
    "print(\"               \\ \")\n",
    "print(\"                \\                     k   4*k+2 \")\n",
    "print(\"                 \\                (-1) * x       \")\n",
    "print(\" Sin((%.2f)^2)  = >       ____________________________ \"%(x))\n",
    "print(\"                 /                 (2*K+1)! \")\n",
    "print(\"                / \")\n",
    "print(\"               / \")\n",
    "print(\"               __________ \")\n",
    "print(\"                  k=0\")"
   ]
  },
  {
   "cell_type": "markdown",
   "metadata": {},
   "source": [
    "S0 = a0\n",
    "S1 = a0 + a1 = S0 + a1\n",
    "S2 = a0 + a1 + a2 = S1 + a2"
   ]
  },
  {
   "cell_type": "markdown",
   "metadata": {},
   "source": [
    "Rekurences reizinatajs"
   ]
  },
  {
   "cell_type": "code",
   "execution_count": 3,
   "metadata": {},
   "outputs": [
    {
     "name": "stdout",
     "output_type": "stream",
     "text": [
      "                                    4 \n",
      "                                 - x  \n",
      "rekurences reizinatajs:___________________________\n",
      "\n",
      "                             2 * k * (2*k+1) \n"
     ]
    }
   ],
   "source": [
    "print(\"                                    4 \")\n",
    "print(\"                                 - x  \")\n",
    "print(\"rekurences reizinatajs:___________________________\")\n",
    "print(\"\")\n",
    "print(\"                             2 * k * (2*k+1) \")"
   ]
  }
 ],
 "metadata": {
  "kernelspec": {
   "display_name": "Python 3",
   "language": "python",
   "name": "python3"
  },
  "language_info": {
   "codemirror_mode": {
    "name": "ipython",
    "version": 3
   },
   "file_extension": ".py",
   "mimetype": "text/x-python",
   "name": "python",
   "nbconvert_exporter": "python",
   "pygments_lexer": "ipython3",
   "version": "3.6.7"
  }
 },
 "nbformat": 4,
 "nbformat_minor": 2
}
