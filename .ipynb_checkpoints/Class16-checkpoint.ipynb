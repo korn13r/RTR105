{
 "cells": [
  {
   "cell_type": "markdown",
   "metadata": {},
   "source": [
    "Laboratorijas darbs 3.\n",
    "Saknes meklēšana"
   ]
  },
  {
   "cell_type": "markdown",
   "metadata": {},
   "source": [
    "Funkcija: y = sin(x*x)"
   ]
  },
  {
   "cell_type": "code",
   "execution_count": 1,
   "metadata": {},
   "outputs": [
    {
     "name": "stdout",
     "output_type": "stream",
     "text": [
      "Dotajaa intervalaa sakne (s) ir! \n",
      "Sakne ir :  1.7644531250000002\n"
     ]
    }
   ],
   "source": [
    "from math import sin, fabs\n",
    "from time import sleep\n",
    "\n",
    "def f(x):\n",
    "    return sin(x*x)\n",
    "\n",
    "# Definejam argumenta x robezhas :\n",
    "a = 1.1\n",
    "b = 3.2\n",
    "\n",
    "# Aprekjinam funkcijas vertibas dotajos punktos :\n",
    "funa = f(a)\n",
    "funb = f(b)\n",
    "\n",
    "#Paarbaudam , vai dotajaa intervaalaa ir saknes :\n",
    "if ( funa * funb > 0.0 ):\n",
    "    print (\"Dotajaa intervalaa [%s,%s] saknju nav\"%(a,b))\n",
    "    sleep(1); exit() #Zinjo uz ekraana, gaida 1 sec. un darbu pabeidz\n",
    "else:\n",
    "    print (\"Dotajaa intervalaa sakne (s) ir! \")\n",
    "\n",
    "#Defineejam precizitaati, ar kaadu mekleesim sakni:\n",
    "deltax = 0.01\n",
    "\n",
    "# Sashaurinam saknes mekleeshanas robezhas:\n",
    "while ( fabs(b-a) > deltax ):\n",
    "    x = (a+b)/2; funx = f(x)\n",
    "    if ( funa*funx < 0. ):\n",
    "        b = x\n",
    "    else:\n",
    "        a = x\n",
    "\n",
    "print (\"Sakne ir : \",x)\n"
   ]
  },
  {
   "cell_type": "markdown",
   "metadata": {},
   "source": [
    "https://www.wolframalpha.com/input/?i=sin(x*x)+limis+1.1+to+3.2\n",
    "Sin(x*x) grafiks robezhaas: [1.1:3.2]"
   ]
  }
 ],
 "metadata": {
  "kernelspec": {
   "display_name": "Python 3",
   "language": "python",
   "name": "python3"
  },
  "language_info": {
   "codemirror_mode": {
    "name": "ipython",
    "version": 3
   },
   "file_extension": ".py",
   "mimetype": "text/x-python",
   "name": "python",
   "nbconvert_exporter": "python",
   "pygments_lexer": "ipython3",
   "version": "3.6.7"
  }
 },
 "nbformat": 4,
 "nbformat_minor": 2
}
